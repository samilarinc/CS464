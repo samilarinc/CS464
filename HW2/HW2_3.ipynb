{
  "nbformat": 4,
  "nbformat_minor": 0,
  "metadata": {
    "colab": {
      "name": "HW2.3.ipynb",
      "provenance": [],
      "collapsed_sections": []
    },
    "kernelspec": {
      "name": "python3",
      "display_name": "Python 3"
    },
    "language_info": {
      "name": "python"
    }
  },
  "cells": [
    {
      "cell_type": "code",
      "execution_count": null,
      "metadata": {
        "colab": {
          "base_uri": "https://localhost:8080/"
        },
        "id": "Iwql8IoluHSo",
        "outputId": "11f065d0-ca49-4e0a-c05e-a66bacb96efb"
      },
      "outputs": [
        {
          "output_type": "stream",
          "name": "stdout",
          "text": [
            "Mounted at /content/drive\n"
          ]
        }
      ],
      "source": [
        "import numpy as np\n",
        "from google.colab import drive\n",
        "import pandas as pd\n",
        "import time \n",
        "drive.mount(\"/content/drive\")"
      ]
    },
    {
      "cell_type": "markdown",
      "source": [
        "# Reading features and labels from csv files"
      ],
      "metadata": {
        "id": "CCU-iAqGt-3x"
      }
    },
    {
      "cell_type": "code",
      "source": [
        "train_data = pd.read_csv(\"/content/drive/MyDrive/Datasets/question-3-features-train.csv\")\n",
        "labels = pd.read_csv(\"/content/drive/MyDrive/Datasets/question-3-labels-train.csv\")\n",
        "test_data = pd.read_csv(\"/content/drive/MyDrive/Datasets/question-3-features-test.csv\")\n",
        "test_labels = pd.read_csv(\"/content/drive/MyDrive/Datasets/question-3-labels-test.csv\")"
      ],
      "metadata": {
        "id": "yG1pZXq1ujzW"
      },
      "execution_count": null,
      "outputs": []
    },
    {
      "cell_type": "code",
      "source": [
        "\"# of data: {0}, # of features {1}\".format(*train_data.shape)\n",
        "\"# of data: {0}, # of features {1}\".format(*test_data.shape)"
      ],
      "metadata": {
        "colab": {
          "base_uri": "https://localhost:8080/",
          "height": 35
        },
        "id": "uHcgurCpu3Lr",
        "outputId": "46a0b191-50f6-4a94-9fb9-548787ff8a8b"
      },
      "execution_count": null,
      "outputs": [
        {
          "output_type": "execute_result",
          "data": {
            "application/vnd.google.colaboratory.intrinsic+json": {
              "type": "string"
            },
            "text/plain": [
              "'# of data: 179, # of features 3'"
            ]
          },
          "metadata": {},
          "execution_count": 3
        }
      ]
    },
    {
      "cell_type": "markdown",
      "source": [
        "Finding the rank of the features matrix"
      ],
      "metadata": {
        "id": "-UBAQrbxx5h4"
      }
    },
    {
      "cell_type": "code",
      "source": [
        "arr = train_data.to_numpy()\n",
        "np.linalg.matrix_rank(arr.T.dot(arr))"
      ],
      "metadata": {
        "colab": {
          "base_uri": "https://localhost:8080/"
        },
        "id": "HFNkaAkW2g2t",
        "outputId": "611def2d-e963-42ca-9d68-30b3ae7d650a"
      },
      "execution_count": null,
      "outputs": [
        {
          "output_type": "execute_result",
          "data": {
            "text/plain": [
              "3"
            ]
          },
          "metadata": {},
          "execution_count": 4
        }
      ]
    },
    {
      "cell_type": "markdown",
      "source": [
        "# **Definition of Logistic Regression Module**"
      ],
      "metadata": {
        "id": "3tSQarVnuJN1"
      }
    },
    {
      "cell_type": "code",
      "source": [
        "class logistic_regressor(object):\n",
        "    def __init__(self, features, labels, alpha, num_epochs):\n",
        "        self.feature_num = features.shape[1]\n",
        "        self.features = self.normalize(features)\n",
        "        self.labels = labels\n",
        "        temp = pd.DataFrame(np.ones(features.shape[0]))\n",
        "        temp = temp.join(self.features)\n",
        "        self.feature_arr = temp.to_numpy()\n",
        "        self.label_arr = labels.to_numpy()\n",
        "        self.thetas = np.zeros((self.feature_num+1, 1))\n",
        "        self.alpha = alpha\n",
        "        self.epoch = num_epochs\n",
        "\n",
        "    def normalize(self, frame):\n",
        "        min_val = frame.min()\n",
        "        max_val = frame.max()\n",
        "        divisor = (max_val - min_val)\n",
        "        frame = (frame - min_val) / divisor\n",
        "        return frame\n",
        "\n",
        "    def sigmoid(self, z):\n",
        "        return 1 / (1 + np.exp(-z))\n",
        "\n",
        "    def fit(self):\n",
        "        for _ in range(self.epoch):\n",
        "            scores = np.matmul(self.feature_arr, self.thetas)\n",
        "            preds = self.sigmoid(scores)\n",
        "            loss = self.label_arr - preds\n",
        "            self.thetas += self.alpha * np.matmul(self.feature_arr.T, loss)\n",
        "        return self.thetas\n",
        "    \n",
        "    def predict(self, data):\n",
        "        if data.shape[0] != self.feature_num:\n",
        "            data = data[1:]\n",
        "        prediction = 0 + self.thetas[0]\n",
        "        for i in range(self.features.shape[1]):\n",
        "            prediction += self.thetas[i+1] * data[i]\n",
        "        return int(prediction > 0)\n",
        "\n",
        "    def score(self, x, y):\n",
        "        confusion_matrix = np.zeros((2,2), dtype = int)\n",
        "        for i in range(x.shape[0]):\n",
        "            prediction = self.predict(x[i])\n",
        "            truth = y[i]\n",
        "            if prediction == 1 and truth == 1:\n",
        "                confusion_matrix[0, 0] += 1\n",
        "            elif prediction == 1 and truth == 0:\n",
        "                confusion_matrix[1, 0] += 1\n",
        "            elif prediction == 0 and truth == 1:\n",
        "                confusion_matrix[0, 1] += 1\n",
        "            else:\n",
        "                confusion_matrix[1, 1] += 1\n",
        "        return confusion_matrix\n",
        "    \n",
        "    def training_accuracy(self):\n",
        "        matrix = self.score(self.feature_arr, self.label_arr)\n",
        "        return (matrix[0, 0] + matrix[1, 1]) / np.sum(matrix)\n",
        "\n",
        "    def fit_batch(self, x, y):\n",
        "        scores = np.matmul(x, self.thetas)\n",
        "        preds = self.sigmoid(scores)\n",
        "        loss = y - preds\n",
        "        self.thetas += self.alpha * np.matmul(x.T, loss)\n",
        "\n",
        "    def mini_batch_train(self, m):\n",
        "        data_num = self.feature_arr.shape[0]\n",
        "        np.random.seed(31)\n",
        "        self.thetas = np.random.rand(*tuple(self.thetas.shape))\n",
        "        for _ in range(self.epoch):\n",
        "            i = 0\n",
        "            while i+m <= data_num:\n",
        "                self.fit_batch(self.feature_arr[i:i+m, :], self.label_arr[i:i+m])\n",
        "                i += m\n",
        "            if i != data_num:\n",
        "                self.fit_batch(self.feature_arr[i:data_num, :], self.label_arr[i:data_num])\n",
        "                i = data_num\n",
        "        return self.thetas"
      ],
      "metadata": {
        "id": "bxBEJZVOu6zE"
      },
      "execution_count": null,
      "outputs": []
    },
    {
      "cell_type": "markdown",
      "source": [
        "# 3.1"
      ],
      "metadata": {
        "id": "PtBYK7rW_A3O"
      }
    },
    {
      "cell_type": "code",
      "source": [
        "def f_score(B, P, R):\n",
        "    return ((1 + B*B) * P * R) / ((B*B*P) + R)"
      ],
      "metadata": {
        "id": "aw6q1GeD9b9N"
      },
      "execution_count": null,
      "outputs": []
    },
    {
      "cell_type": "code",
      "source": [
        "test_data = model.normalize(test_data)"
      ],
      "metadata": {
        "id": "_fo_NtyuD4ai"
      },
      "execution_count": null,
      "outputs": []
    },
    {
      "cell_type": "markdown",
      "source": [
        "Defining and Fitting The Model"
      ],
      "metadata": {
        "id": "_IgStnBtuRsT"
      }
    },
    {
      "cell_type": "markdown",
      "source": [
        "Alpha = 1e-5"
      ],
      "metadata": {
        "id": "3ArEZftUjP2d"
      }
    },
    {
      "cell_type": "code",
      "source": [
        "model = logistic_regressor(train_data, labels, 1e-5, 1000) #pd.DataFrame(features[\"LSTAT\"])\n",
        "costs = model.fit()\n",
        "model.thetas"
      ],
      "metadata": {
        "colab": {
          "base_uri": "https://localhost:8080/"
        },
        "id": "vAIQb7ax1JSF",
        "outputId": "612d378d-c1b9-4b18-cf90-ad2c776d8d0f"
      },
      "execution_count": null,
      "outputs": [
        {
          "output_type": "execute_result",
          "data": {
            "text/plain": [
              "array([[-0.16709404],\n",
              "       [-0.50547407],\n",
              "       [-0.10840616],\n",
              "       [ 0.06074037]])"
            ]
          },
          "metadata": {},
          "execution_count": 194
        }
      ]
    },
    {
      "cell_type": "code",
      "source": [
        "\"%.4f\"%model.training_accuracy()"
      ],
      "metadata": {
        "id": "Mdb4x3O9jxGB",
        "colab": {
          "base_uri": "https://localhost:8080/",
          "height": 35
        },
        "outputId": "c075926e-da33-4bf2-c96b-a71b748dcd35"
      },
      "execution_count": null,
      "outputs": [
        {
          "output_type": "execute_result",
          "data": {
            "application/vnd.google.colaboratory.intrinsic+json": {
              "type": "string"
            },
            "text/plain": [
              "'0.6166'"
            ]
          },
          "metadata": {},
          "execution_count": 195
        }
      ]
    },
    {
      "cell_type": "code",
      "source": [
        "matrix = model.score(test_data.to_numpy(), test_labels.to_numpy())\n",
        "print(\"Confusion Matrix:\\n\", matrix)\n",
        "print(\"Accuracy: %.3f\"%((matrix[0, 0] + matrix[1, 1]) / np.sum(matrix)))\n",
        "precision = (matrix[0, 0] / (matrix[0, 0] + matrix[1, 0]))\n",
        "print(\"Precision: %.3f\"%precision)\n",
        "recall = (matrix[0, 0] / (matrix[0, 0] + matrix[0, 1]))\n",
        "print(\"Recall: %.3f\"%recall)\n",
        "print(\"Negative Predictive Value: %.3f\"%(matrix[1, 1] / (matrix[1, 1] + matrix[0, 1])))\n",
        "print(\"False Positive Rate: %.3f\"%(matrix[0, 1] / (matrix[0, 1] + matrix[1, 1])))\n",
        "print(\"F1 and F2 scores: %.3f, %.3f\" % (f_score(1, precision, recall), f_score(2, precision, recall)))"
      ],
      "metadata": {
        "colab": {
          "base_uri": "https://localhost:8080/"
        },
        "id": "mQ-FQw461z7P",
        "outputId": "dbf2c7a9-c55b-4caa-8477-6a8d71de3013"
      },
      "execution_count": null,
      "outputs": [
        {
          "output_type": "stream",
          "name": "stdout",
          "text": [
            "Confusion Matrix:\n",
            " [[  0  69]\n",
            " [  0 110]]\n",
            "Accuracy: 0.615\n",
            "Precision: nan\n",
            "Recall: 0.000\n",
            "Negative Predictive Value: 0.615\n",
            "False Positive Rate: 0.385\n",
            "F1 and F2 scores: nan, nan\n"
          ]
        },
        {
          "output_type": "stream",
          "name": "stderr",
          "text": [
            "/usr/local/lib/python3.7/dist-packages/ipykernel_launcher.py:4: RuntimeWarning: invalid value encountered in long_scalars\n",
            "  after removing the cwd from sys.path.\n"
          ]
        }
      ]
    },
    {
      "cell_type": "markdown",
      "source": [
        "Alpha = 1e-4"
      ],
      "metadata": {
        "id": "IR9reznjjhma"
      }
    },
    {
      "cell_type": "code",
      "source": [
        "model = logistic_regressor(train_data, labels, 1e-4, 1000) #pd.DataFrame(features[\"LSTAT\"])\n",
        "costs = model.fit()\n",
        "model.thetas"
      ],
      "metadata": {
        "colab": {
          "base_uri": "https://localhost:8080/"
        },
        "outputId": "4248be4c-e768-48a7-cbd5-5bb520a6ed66",
        "id": "CNkorlfnjhmc"
      },
      "execution_count": null,
      "outputs": [
        {
          "output_type": "execute_result",
          "data": {
            "text/plain": [
              "array([[ 0.57219593],\n",
              "       [-1.45638612],\n",
              "       [-0.48654093],\n",
              "       [ 0.44683419]])"
            ]
          },
          "metadata": {},
          "execution_count": 197
        }
      ]
    },
    {
      "cell_type": "code",
      "source": [
        "\"%.4f\"%model.training_accuracy()"
      ],
      "metadata": {
        "colab": {
          "base_uri": "https://localhost:8080/",
          "height": 35
        },
        "id": "u9FsodH5w2Wf",
        "outputId": "3b5c87bb-58be-469f-ac5e-5f04db613460"
      },
      "execution_count": null,
      "outputs": [
        {
          "output_type": "execute_result",
          "data": {
            "application/vnd.google.colaboratory.intrinsic+json": {
              "type": "string"
            },
            "text/plain": [
              "'0.6840'"
            ]
          },
          "metadata": {},
          "execution_count": 198
        }
      ]
    },
    {
      "cell_type": "code",
      "source": [
        "matrix = model.score(test_data.to_numpy(), test_labels.to_numpy())\n",
        "print(\"Confusion Matrix:\\n\", matrix)\n",
        "print(\"Accuracy: %.3f\"%((matrix[0, 0] + matrix[1, 1]) / np.sum(matrix)))\n",
        "precision = (matrix[0, 0] / (matrix[0, 0] + matrix[1, 0]))\n",
        "print(\"Precision: %.3f\"%precision)\n",
        "recall = (matrix[0, 0] / (matrix[0, 0] + matrix[0, 1]))\n",
        "print(\"Recall: %.3f\"%recall)\n",
        "print(\"Negative Predictive Value: %.3f\"%(matrix[1, 1] / (matrix[1, 1] + matrix[0, 1])))\n",
        "print(\"False Positive Rate: %.3f\"%(matrix[0, 1] / (matrix[0, 1] + matrix[1, 1])))\n",
        "print(\"F1 and F2 scores: %.3f, %.3f\" % (f_score(1, precision, recall), f_score(2, precision, recall)))"
      ],
      "metadata": {
        "colab": {
          "base_uri": "https://localhost:8080/"
        },
        "id": "CSdrNbZL8YwK",
        "outputId": "cccecd61-3d36-4b3f-e79c-0d91d347dc19"
      },
      "execution_count": null,
      "outputs": [
        {
          "output_type": "stream",
          "name": "stdout",
          "text": [
            "Confusion Matrix:\n",
            " [[27 42]\n",
            " [19 91]]\n",
            "Accuracy: 0.659\n",
            "Precision: 0.587\n",
            "Recall: 0.391\n",
            "Negative Predictive Value: 0.684\n",
            "False Positive Rate: 0.316\n",
            "F1 and F2 scores: 0.470, 0.419\n"
          ]
        }
      ]
    },
    {
      "cell_type": "markdown",
      "source": [
        "Alpha = 1e-3"
      ],
      "metadata": {
        "id": "BJ5FehDzjhu7"
      }
    },
    {
      "cell_type": "code",
      "source": [
        "model = logistic_regressor(train_data, labels, 1e-3, 1000) #pd.DataFrame(features[\"LSTAT\"])\n",
        "costs = model.fit()\n",
        "model.thetas"
      ],
      "metadata": {
        "colab": {
          "base_uri": "https://localhost:8080/"
        },
        "outputId": "245cef7b-355a-497c-e201-53799d8bd5f1",
        "id": "kIZMGvnhjhu8"
      },
      "execution_count": null,
      "outputs": [
        {
          "output_type": "execute_result",
          "data": {
            "text/plain": [
              "array([[ 1.70102622],\n",
              "       [-1.97755776],\n",
              "       [-2.73013922],\n",
              "       [ 1.28611756]])"
            ]
          },
          "metadata": {},
          "execution_count": 200
        }
      ]
    },
    {
      "cell_type": "code",
      "source": [
        "\"%.4f\"%model.training_accuracy()"
      ],
      "metadata": {
        "colab": {
          "base_uri": "https://localhost:8080/",
          "height": 35
        },
        "id": "otCiqUX0y4Ly",
        "outputId": "fa89e7fe-3993-4dd4-cac1-7752d21d5d7e"
      },
      "execution_count": null,
      "outputs": [
        {
          "output_type": "execute_result",
          "data": {
            "application/vnd.google.colaboratory.intrinsic+json": {
              "type": "string"
            },
            "text/plain": [
              "'0.7121'"
            ]
          },
          "metadata": {},
          "execution_count": 201
        }
      ]
    },
    {
      "cell_type": "code",
      "source": [
        "matrix = model.score(test_data.to_numpy(), test_labels.to_numpy())\n",
        "print(\"Confusion Matrix:\\n\", matrix)\n",
        "print(\"Accuracy: %.3f\"%((matrix[0, 0] + matrix[1, 1]) / np.sum(matrix)))\n",
        "precision = (matrix[0, 0] / (matrix[0, 0] + matrix[1, 0]))\n",
        "print(\"Precision: %.3f\"%precision)\n",
        "recall = (matrix[0, 0] / (matrix[0, 0] + matrix[0, 1]))\n",
        "print(\"Recall: %.3f\"%recall)\n",
        "print(\"Negative Predictive Value: %.3f\"%(matrix[1, 1] / (matrix[1, 1] + matrix[0, 1])))\n",
        "print(\"False Positive Rate: %.3f\"%(matrix[0, 1] / (matrix[0, 1] + matrix[1, 1])))\n",
        "print(\"F1 and F2 scores: %.3f, %.3f\" % (f_score(1, precision, recall), f_score(2, precision, recall)))"
      ],
      "metadata": {
        "colab": {
          "base_uri": "https://localhost:8080/"
        },
        "id": "d9n4vb1C8Z4Y",
        "outputId": "f24eb5d0-2fbe-42fd-cb8e-6606b68053e5"
      },
      "execution_count": null,
      "outputs": [
        {
          "output_type": "stream",
          "name": "stdout",
          "text": [
            "Confusion Matrix:\n",
            " [[31 38]\n",
            " [16 94]]\n",
            "Accuracy: 0.698\n",
            "Precision: 0.660\n",
            "Recall: 0.449\n",
            "Negative Predictive Value: 0.712\n",
            "False Positive Rate: 0.288\n",
            "F1 and F2 scores: 0.534, 0.480\n"
          ]
        }
      ]
    },
    {
      "cell_type": "markdown",
      "source": [
        "Alpha = 1e-2"
      ],
      "metadata": {
        "id": "q9a_zZ6ajh3F"
      }
    },
    {
      "cell_type": "code",
      "source": [
        "model = logistic_regressor(train_data, labels, 1e-2, 1000) #pd.DataFrame(features[\"LSTAT\"])\n",
        "costs = model.fit()\n",
        "model.thetas"
      ],
      "metadata": {
        "colab": {
          "base_uri": "https://localhost:8080/"
        },
        "outputId": "529955ea-e397-49f8-8922-ce9d5bb583b8",
        "id": "VjONRl9djh3L"
      },
      "execution_count": null,
      "outputs": [
        {
          "output_type": "execute_result",
          "data": {
            "text/plain": [
              "array([[ 2.61221239],\n",
              "       [-1.99087256],\n",
              "       [-3.21911101],\n",
              "       [ 1.71843768]])"
            ]
          },
          "metadata": {},
          "execution_count": 203
        }
      ]
    },
    {
      "cell_type": "code",
      "source": [
        "\"%.4f\"%model.training_accuracy()"
      ],
      "metadata": {
        "colab": {
          "base_uri": "https://localhost:8080/",
          "height": 35
        },
        "id": "1tGSXlJjy55B",
        "outputId": "bedef34e-2018-485d-8a53-d34d2e023928"
      },
      "execution_count": null,
      "outputs": [
        {
          "output_type": "execute_result",
          "data": {
            "application/vnd.google.colaboratory.intrinsic+json": {
              "type": "string"
            },
            "text/plain": [
              "'0.6601'"
            ]
          },
          "metadata": {},
          "execution_count": 204
        }
      ]
    },
    {
      "cell_type": "code",
      "source": [
        "matrix = model.score(test_data.to_numpy(), test_labels.to_numpy())\n",
        "print(\"Confusion Matrix:\\n\", matrix)\n",
        "print(\"Accuracy: %.3f\"%((matrix[0, 0] + matrix[1, 1]) / np.sum(matrix)))\n",
        "precision = (matrix[0, 0] / (matrix[0, 0] + matrix[1, 0]))\n",
        "print(\"Precision: %.3f\"%precision)\n",
        "recall = (matrix[0, 0] / (matrix[0, 0] + matrix[0, 1]))\n",
        "print(\"Recall: %.3f\"%recall)\n",
        "print(\"Negative Predictive Value: %.3f\"%(matrix[1, 1] / (matrix[1, 1] + matrix[0, 1])))\n",
        "print(\"False Positive Rate: %.3f\"%(matrix[0, 1] / (matrix[0, 1] + matrix[1, 1])))\n",
        "print(\"F1 and F2 scores: %.3f, %.3f\" % (f_score(1, precision, recall), f_score(2, precision, recall)))"
      ],
      "metadata": {
        "colab": {
          "base_uri": "https://localhost:8080/"
        },
        "id": "zyJR7j8f8a48",
        "outputId": "b17473f6-2734-49f8-81b3-002daa7a8976"
      },
      "execution_count": null,
      "outputs": [
        {
          "output_type": "stream",
          "name": "stdout",
          "text": [
            "Confusion Matrix:\n",
            " [[50 19]\n",
            " [34 76]]\n",
            "Accuracy: 0.704\n",
            "Precision: 0.595\n",
            "Recall: 0.725\n",
            "Negative Predictive Value: 0.800\n",
            "False Positive Rate: 0.200\n",
            "F1 and F2 scores: 0.654, 0.694\n"
          ]
        }
      ]
    },
    {
      "cell_type": "markdown",
      "source": [
        "Alpha = 1e-1"
      ],
      "metadata": {
        "id": "bYC63L-vjsc6"
      }
    },
    {
      "cell_type": "code",
      "source": [
        "model = logistic_regressor(train_data, labels, 1e-1, 1000) #pd.DataFrame(features[\"LSTAT\"])\n",
        "costs = model.fit()\n",
        "model.thetas"
      ],
      "metadata": {
        "colab": {
          "base_uri": "https://localhost:8080/"
        },
        "outputId": "b896eda4-3788-44e8-d41c-cbe9f20ff3fc",
        "id": "nMS04K48jsc7"
      },
      "execution_count": null,
      "outputs": [
        {
          "output_type": "execute_result",
          "data": {
            "text/plain": [
              "array([[  0.05423731],\n",
              "       [-40.58875457],\n",
              "       [-38.83425394],\n",
              "       [ 28.58597096]])"
            ]
          },
          "metadata": {},
          "execution_count": 206
        }
      ]
    },
    {
      "cell_type": "code",
      "source": [
        "\"%.4f\"%model.training_accuracy()"
      ],
      "metadata": {
        "id": "02UGWNKG1QeZ",
        "colab": {
          "base_uri": "https://localhost:8080/",
          "height": 35
        },
        "outputId": "addebd3c-29c4-4c37-a471-a07020d04ae9"
      },
      "execution_count": null,
      "outputs": [
        {
          "output_type": "execute_result",
          "data": {
            "application/vnd.google.colaboratory.intrinsic+json": {
              "type": "string"
            },
            "text/plain": [
              "'0.6264'"
            ]
          },
          "metadata": {},
          "execution_count": 207
        }
      ]
    },
    {
      "cell_type": "code",
      "source": [
        "matrix = model.score(test_data.to_numpy(), test_labels.to_numpy())\n",
        "print(\"Confusion Matrix:\\n\", matrix)\n",
        "print(\"Accuracy: %.3f\"%((matrix[0, 0] + matrix[1, 1]) / np.sum(matrix)))\n",
        "precision = (matrix[0, 0] / (matrix[0, 0] + matrix[1, 0]))\n",
        "print(\"Precision: %.3f\"%precision)\n",
        "recall = (matrix[0, 0] / (matrix[0, 0] + matrix[0, 1]))\n",
        "print(\"Recall: %.3f\"%recall)\n",
        "print(\"Negative Predictive Value: %.3f\"%(matrix[1, 1] / (matrix[1, 1] + matrix[0, 1])))\n",
        "print(\"False Positive Rate: %.3f\"%(matrix[0, 1] / (matrix[0, 1] + matrix[1, 1])))\n",
        "print(\"F1 and F2 scores: %.3f, %.3f\" % (f_score(1, precision, recall), f_score(2, precision, recall)))"
      ],
      "metadata": {
        "colab": {
          "base_uri": "https://localhost:8080/"
        },
        "id": "k8g2vX268b1e",
        "outputId": "b40ddfe2-efd4-4821-cb85-8f1983e36015"
      },
      "execution_count": null,
      "outputs": [
        {
          "output_type": "stream",
          "name": "stdout",
          "text": [
            "Confusion Matrix:\n",
            " [[  5  64]\n",
            " [  2 108]]\n",
            "Accuracy: 0.631\n",
            "Precision: 0.714\n",
            "Recall: 0.072\n",
            "Negative Predictive Value: 0.628\n",
            "False Positive Rate: 0.372\n",
            "F1 and F2 scores: 0.132, 0.088\n"
          ]
        }
      ]
    },
    {
      "cell_type": "markdown",
      "source": [
        "# 3.2"
      ],
      "metadata": {
        "id": "Txr1PGfX_GZG"
      }
    },
    {
      "cell_type": "markdown",
      "source": [
        "**Mini-batch with batch size 100**"
      ],
      "metadata": {
        "id": "2BIrZBl0ta8K"
      }
    },
    {
      "cell_type": "code",
      "source": [
        "model = logistic_regressor(train_data, labels, 1e-2, 1000)\n",
        "model.mini_batch_train(100)"
      ],
      "metadata": {
        "id": "IcoH2rxe_Dbu",
        "colab": {
          "base_uri": "https://localhost:8080/"
        },
        "outputId": "1a773c73-d5b7-47f6-c604-e759bee236cf"
      },
      "execution_count": null,
      "outputs": [
        {
          "output_type": "execute_result",
          "data": {
            "text/plain": [
              "array([[ 1.78858485],\n",
              "       [-1.97215461],\n",
              "       [-2.94735654],\n",
              "       [ 1.6090071 ]])"
            ]
          },
          "metadata": {},
          "execution_count": 209
        }
      ]
    },
    {
      "cell_type": "code",
      "source": [
        "\"%.4f\"%model.training_accuracy()"
      ],
      "metadata": {
        "colab": {
          "base_uri": "https://localhost:8080/",
          "height": 35
        },
        "id": "0i1A7jHzu9Gn",
        "outputId": "85e85180-d1a5-4fe1-ea90-6af9a0ce6e81"
      },
      "execution_count": null,
      "outputs": [
        {
          "output_type": "execute_result",
          "data": {
            "application/vnd.google.colaboratory.intrinsic+json": {
              "type": "string"
            },
            "text/plain": [
              "'0.7051'"
            ]
          },
          "metadata": {},
          "execution_count": 210
        }
      ]
    },
    {
      "cell_type": "code",
      "source": [
        "matrix = model.score(test_data.to_numpy(), test_labels.to_numpy())\n",
        "print(\"Confusion Matrix:\\n\", matrix)\n",
        "print(\"Accuracy: %.3f\"%((matrix[0, 0] + matrix[1, 1]) / np.sum(matrix)))\n",
        "precision = (matrix[0, 0] / (matrix[0, 0] + matrix[1, 0]))\n",
        "print(\"Precision: %.3f\"%precision)\n",
        "recall = (matrix[0, 0] / (matrix[0, 0] + matrix[0, 1]))\n",
        "print(\"Recall: %.3f\"%recall)\n",
        "print(\"Negative Predictive Value: %.3f\"%(matrix[1, 1] / (matrix[1, 1] + matrix[0, 1])))\n",
        "print(\"False Positive Rate: %.3f\"%(matrix[0, 1] / (matrix[0, 1] + matrix[1, 1])))\n",
        "print(\"F1 and F2 scores: %.3f, %.3f\" % (f_score(1, precision, recall), f_score(2, precision, recall)))"
      ],
      "metadata": {
        "colab": {
          "base_uri": "https://localhost:8080/"
        },
        "id": "ZEO2xZ7ctNAr",
        "outputId": "bcfb665a-01bb-4d95-954c-c04271da7227"
      },
      "execution_count": null,
      "outputs": [
        {
          "output_type": "stream",
          "name": "stdout",
          "text": [
            "Confusion Matrix:\n",
            " [[33 36]\n",
            " [16 94]]\n",
            "Accuracy: 0.709\n",
            "Precision: 0.673\n",
            "Recall: 0.478\n",
            "Negative Predictive Value: 0.723\n",
            "False Positive Rate: 0.277\n",
            "F1 and F2 scores: 0.559, 0.508\n"
          ]
        }
      ]
    },
    {
      "cell_type": "markdown",
      "source": [
        "**Sthoastic**"
      ],
      "metadata": {
        "id": "WhXUZxiPtgVy"
      }
    },
    {
      "cell_type": "code",
      "source": [
        "model = logistic_regressor(train_data, labels, 1e-3, 1000)\n",
        "model.mini_batch_train(1)"
      ],
      "metadata": {
        "colab": {
          "base_uri": "https://localhost:8080/"
        },
        "id": "ed2ke2K5tUe5",
        "outputId": "4eabe10c-fafe-4ce9-d576-5118d5716ee4"
      },
      "execution_count": null,
      "outputs": [
        {
          "output_type": "execute_result",
          "data": {
            "text/plain": [
              "array([[ 1.59864208],\n",
              "       [-1.90497177],\n",
              "       [-2.6494684 ],\n",
              "       [ 1.75589173]])"
            ]
          },
          "metadata": {},
          "execution_count": 212
        }
      ]
    },
    {
      "cell_type": "code",
      "source": [
        "\"%.4f\"%model.training_accuracy()"
      ],
      "metadata": {
        "colab": {
          "base_uri": "https://localhost:8080/"
        },
        "id": "mmVRgFX5u4h3",
        "outputId": "a75a4ddd-23f1-417b-f764-a47125dc4e08"
      },
      "execution_count": null,
      "outputs": [
        {
          "output_type": "execute_result",
          "data": {
            "application/vnd.google.colaboratory.intrinsic+json": {
              "type": "string"
            },
            "text/plain": [
              "'0.7093'"
            ]
          },
          "metadata": {},
          "execution_count": 213
        }
      ]
    },
    {
      "cell_type": "code",
      "source": [
        "matrix = model.score(test_data.to_numpy(), test_labels.to_numpy())\n",
        "print(\"Confusion Matrix:\\n\", matrix)\n",
        "print(\"Accuracy: %.3f\"%((matrix[0, 0] + matrix[1, 1]) / np.sum(matrix)))\n",
        "precision = (matrix[0, 0] / (matrix[0, 0] + matrix[1, 0]))\n",
        "print(\"Precision: %.3f\"%precision)\n",
        "recall = (matrix[0, 0] / (matrix[0, 0] + matrix[0, 1]))\n",
        "print(\"Recall: %.3f\"%recall)\n",
        "print(\"Negative Predictive Value: %.3f\"%(matrix[1, 1] / (matrix[1, 1] + matrix[0, 1])))\n",
        "print(\"False Positive Rate: %.3f\"%(matrix[0, 1] / (matrix[0, 1] + matrix[1, 1])))\n",
        "print(\"F1 and F2 scores: %.3f, %.3f\" % (f_score(1, precision, recall), f_score(2, precision, recall)))"
      ],
      "metadata": {
        "colab": {
          "base_uri": "https://localhost:8080/"
        },
        "id": "f6Zzdo_ctmx6",
        "outputId": "7571e563-7c0a-40c9-d85b-e0b149caded4"
      },
      "execution_count": null,
      "outputs": [
        {
          "output_type": "stream",
          "name": "stdout",
          "text": [
            "Confusion Matrix:\n",
            " [[32 37]\n",
            " [17 93]]\n",
            "Accuracy: 0.698\n",
            "Precision: 0.653\n",
            "Recall: 0.464\n",
            "Negative Predictive Value: 0.715\n",
            "False Positive Rate: 0.285\n",
            "F1 and F2 scores: 0.542, 0.492\n"
          ]
        }
      ]
    },
    {
      "cell_type": "code",
      "source": [
        ""
      ],
      "metadata": {
        "id": "yaI8_vzcwJ0z"
      },
      "execution_count": null,
      "outputs": []
    }
  ]
}
{
  "nbformat": 4,
  "nbformat_minor": 0,
  "metadata": {
    "colab": {
      "name": "HW2.2.ipynb",
      "provenance": [],
      "collapsed_sections": []
    },
    "kernelspec": {
      "name": "python3",
      "display_name": "Python 3"
    },
    "language_info": {
      "name": "python"
    }
  },
  "cells": [
    {
      "cell_type": "code",
      "execution_count": null,
      "metadata": {
        "colab": {
          "base_uri": "https://localhost:8080/"
        },
        "id": "Iwql8IoluHSo",
        "outputId": "2b7e5e1f-14ae-447b-ba3b-8c1874d4299b"
      },
      "outputs": [
        {
          "output_type": "stream",
          "name": "stdout",
          "text": [
            "Mounted at /content/drive\n"
          ]
        }
      ],
      "source": [
        "import numpy as np\n",
        "from google.colab import drive\n",
        "import pandas as pd\n",
        "import time \n",
        "drive.mount(\"/content/drive\")"
      ]
    },
    {
      "cell_type": "code",
      "source": [
        "!ls /content/drive/MyDrive/Datasets"
      ],
      "metadata": {
        "colab": {
          "base_uri": "https://localhost:8080/"
        },
        "id": "Z7_pHZWyua6w",
        "outputId": "310d5b7b-8ae0-4830-8de6-fefa6bfd7b9d"
      },
      "execution_count": null,
      "outputs": [
        {
          "output_type": "stream",
          "name": "stdout",
          "text": [
            "images.csv\t\t      question-3-features-train.csv\n",
            "question-2-features.csv       question-3-labels-test.csv\n",
            "question-2-labels.csv\t      question-3-labels-train.csv\n",
            "question-3-features-test.csv\n"
          ]
        }
      ]
    },
    {
      "cell_type": "markdown",
      "source": [
        "Reading features and labels from csv files"
      ],
      "metadata": {
        "id": "CCU-iAqGt-3x"
      }
    },
    {
      "cell_type": "code",
      "source": [
        "features = pd.read_csv(\"/content/drive/MyDrive/Datasets/question-2-features.csv\")\n",
        "labels = pd.read_csv(\"/content/drive/MyDrive/Datasets/question-2-labels.csv\")"
      ],
      "metadata": {
        "id": "yG1pZXq1ujzW"
      },
      "execution_count": null,
      "outputs": []
    },
    {
      "cell_type": "code",
      "source": [
        "\"# of data: {0}, # of features {1}\".format(*features.shape)"
      ],
      "metadata": {
        "colab": {
          "base_uri": "https://localhost:8080/",
          "height": 35
        },
        "id": "uHcgurCpu3Lr",
        "outputId": "fc9e304b-ed0a-48f5-9560-35f77af1a065"
      },
      "execution_count": null,
      "outputs": [
        {
          "output_type": "execute_result",
          "data": {
            "application/vnd.google.colaboratory.intrinsic+json": {
              "type": "string"
            },
            "text/plain": [
              "'# of data: 506, # of features 13'"
            ]
          },
          "metadata": {},
          "execution_count": 5
        }
      ]
    },
    {
      "cell_type": "markdown",
      "source": [
        "Finding the rank of the features matrix"
      ],
      "metadata": {
        "id": "-UBAQrbxx5h4"
      }
    },
    {
      "cell_type": "code",
      "source": [
        "arr = features.to_numpy()\n",
        "np.linalg.matrix_rank(arr.T.dot(arr))"
      ],
      "metadata": {
        "colab": {
          "base_uri": "https://localhost:8080/"
        },
        "id": "HFNkaAkW2g2t",
        "outputId": "f2fb7249-dbcb-47bf-a720-0a767531bc8a"
      },
      "execution_count": null,
      "outputs": [
        {
          "output_type": "execute_result",
          "data": {
            "text/plain": [
              "13"
            ]
          },
          "metadata": {},
          "execution_count": 6
        }
      ]
    },
    {
      "cell_type": "markdown",
      "source": [
        "**Definition of Linear Regression Module**"
      ],
      "metadata": {
        "id": "3tSQarVnuJN1"
      }
    },
    {
      "cell_type": "code",
      "source": [
        "class linear_regressor(object):\n",
        "    def __init__(self, features, labels):#, alpha, num_epochs):\n",
        "        self.data_num = features.shape[0]\n",
        "        self.feature_num = features.shape[1]\n",
        "        self.features = self.normalize(features)\n",
        "        self.labels = labels\n",
        "        temp = pd.DataFrame(np.ones(features.shape[0]))\n",
        "        temp = temp.join(features)\n",
        "        self.feature_arr = temp.to_numpy()\n",
        "        self.label_arr = labels.to_numpy()   #self.normalize(labels).to_numpy()\n",
        "        self.thetas = np.ones((self.feature_num+1, 1))\n",
        "        self.predictions = np.zeros(features.shape[0])\n",
        "        # self.alpha = alpha\n",
        "        # self.epoch = num_epochs\n",
        "\n",
        "    def normalize(self, frame):\n",
        "        min_val = frame.min()\n",
        "        max_val = frame.max()\n",
        "        divisor = (max_val - min_val)\n",
        "        frame = (frame - min_val) / divisor\n",
        "        return frame\n",
        "\n",
        "    # def calculate_cost(self):\n",
        "    #     temp = (self.label_arr - np.matmul(self.feature_arr, self.thetas))\n",
        "    #     res = np.matmul(temp.T, temp) / (2*self.data_num)\n",
        "    #     return res[0, 0]\n",
        "\n",
        "    # def grad_descent(self):\n",
        "    #     costs = []\n",
        "    #     for _ in range(self.epoch):\n",
        "    #         temp = np.matmul(self.feature_arr, self.thetas) - self.label_arr\n",
        "    #         der_cost = np.matmul(self.feature_arr.T, temp) / self.data_num\n",
        "    #         self.thetas = self.thetas - self.alpha * der_cost\n",
        "    #         costs.append(self.calculate_cost())\n",
        "    #     return costs\n",
        "    \n",
        "    def fit(self):\n",
        "        temp = np.matmul(self.feature_arr.T, self.feature_arr)\n",
        "        temp = np.linalg.inv(temp)\n",
        "        temp2 = np.matmul(self.feature_arr.T, self.label_arr)\n",
        "        temp = np.matmul(temp, temp2)\n",
        "        self.thetas = temp\n",
        "        return self.thetas\n",
        "        # return self.grad_descent()\n",
        "\n",
        "    def predict(self, data):\n",
        "        if data.shape[0] != self.feature_num:\n",
        "            data = data[1:]\n",
        "        prediction = 1 * self.thetas[0, 0]\n",
        "        for i in range(self.feature_num):\n",
        "            prediction += self.thetas[i+1, 0] * data[i]\n",
        "        return prediction\n",
        "\n",
        "    def score(self):\n",
        "        from math import sqrt\n",
        "        error = 0\n",
        "        for i in range(self.features.shape[0]):\n",
        "            prediction = model.predict(self.feature_arr[i])\n",
        "            self.predictions[i] = prediction\n",
        "            error += (self.label_arr[i] - prediction) ** 2\n",
        "        error = sqrt(error)# / self.features.shape[0]\n",
        "        return error"
      ],
      "metadata": {
        "id": "bxBEJZVOu6zE"
      },
      "execution_count": null,
      "outputs": []
    },
    {
      "cell_type": "markdown",
      "source": [
        "Defining and Fitting The Model"
      ],
      "metadata": {
        "id": "_IgStnBtuRsT"
      }
    },
    {
      "cell_type": "code",
      "source": [
        "train_data = pd.DataFrame(features[\"LSTAT\"])"
      ],
      "metadata": {
        "id": "UOzc5rmRxmEf"
      },
      "execution_count": null,
      "outputs": []
    },
    {
      "cell_type": "code",
      "source": [
        "model = linear_regressor(train_data, labels)#, 0.01, 3000) #pd.DataFrame(features[\"LSTAT\"])\n",
        "costs = model.fit()\n",
        "print(model.thetas)"
      ],
      "metadata": {
        "colab": {
          "base_uri": "https://localhost:8080/"
        },
        "id": "vAIQb7ax1JSF",
        "outputId": "46104396-2e89-4946-e8b5-80877c80be9e"
      },
      "execution_count": null,
      "outputs": [
        {
          "output_type": "stream",
          "name": "stdout",
          "text": [
            "[[34.55384088]\n",
            " [-0.95004935]]\n"
          ]
        }
      ]
    },
    {
      "cell_type": "code",
      "source": [
        "\"%.4f\"%model.score()"
      ],
      "metadata": {
        "colab": {
          "base_uri": "https://localhost:8080/",
          "height": 35
        },
        "id": "02UGWNKG1QeZ",
        "outputId": "cc799cbb-f013-4678-9b92-ae988b1e07c9"
      },
      "execution_count": null,
      "outputs": [
        {
          "output_type": "execute_result",
          "data": {
            "application/vnd.google.colaboratory.intrinsic+json": {
              "type": "string"
            },
            "text/plain": [
              "'0.2758'"
            ]
          },
          "metadata": {},
          "execution_count": 22
        }
      ]
    },
    {
      "cell_type": "code",
      "source": [
        "import matplotlib.pyplot as plt\n",
        "plt.scatter(train_data, labels.to_numpy())\n",
        "plt.scatter(train_data, model.predictions)\n",
        "plt.xlabel(\"LSTAT\")\n",
        "plt.ylabel(\"Price\")\n",
        "plt.legend((\"Truth\", \"Prediction\"))\n",
        "plt.show()"
      ],
      "metadata": {
        "colab": {
          "base_uri": "https://localhost:8080/",
          "height": 279
        },
        "id": "DTVxcvh5itwL",
        "outputId": "d1b0818c-9e72-46c6-a60a-25b1f95bd8ab"
      },
      "execution_count": null,
      "outputs": [
        {
          "output_type": "display_data",
          "data": {
            "image/png": "[encoded data removed]",
            "text/plain": [
              "<Figure size 432x288 with 1 Axes>"
            ]
          },
          "metadata": {
            "needs_background": "light"
          }
        }
      ]
    },
    {
      "cell_type": "markdown",
      "source": [
        "Using the square of LSTAT as a second feature"
      ],
      "metadata": {
        "id": "ecB_DYQI3U4p"
      }
    },
    {
      "cell_type": "code",
      "source": [
        "train_data[\"LSTAT_SQUARE\"] = train_data.to_numpy() ** 2\n",
        "model = linear_regressor(train_data, labels)#, 0.01, 3000) #pd.DataFrame(features[\"LSTAT\"])\n",
        "costs = model.fit()\n",
        "print(model.thetas)"
      ],
      "metadata": {
        "colab": {
          "base_uri": "https://localhost:8080/"
        },
        "id": "Vf_fCSRb10-l",
        "outputId": "ea1069fa-9fc7-4c59-baf8-a3383e8f0a53"
      },
      "execution_count": null,
      "outputs": [
        {
          "output_type": "stream",
          "name": "stdout",
          "text": [
            "[[42.86200733]\n",
            " [-2.3328211 ]\n",
            " [ 0.04354689]]\n"
          ]
        }
      ]
    },
    {
      "cell_type": "code",
      "source": [
        "\"%.4f\"%model.score()"
      ],
      "metadata": {
        "colab": {
          "base_uri": "https://localhost:8080/",
          "height": 35
        },
        "id": "gdIwqk3r4xO4",
        "outputId": "d94d2067-0981-4a7d-f55a-cf5909b6f8bb"
      },
      "execution_count": null,
      "outputs": [
        {
          "output_type": "execute_result",
          "data": {
            "application/vnd.google.colaboratory.intrinsic+json": {
              "type": "string"
            },
            "text/plain": [
              "'123.8840'"
            ]
          },
          "metadata": {},
          "execution_count": 31
        }
      ]
    },
    {
      "cell_type": "code",
      "source": [
        "import matplotlib.pyplot as plt\n",
        "plt.scatter(train_data[\"LSTAT\"], labels.to_numpy())\n",
        "plt.scatter(train_data[\"LSTAT\"], model.predictions)\n",
        "plt.xlabel(\"LSTAT\")\n",
        "plt.ylabel(\"Price\")\n",
        "plt.legend((\"Truth\", \"Prediction\"))\n",
        "plt.show()"
      ],
      "metadata": {
        "colab": {
          "base_uri": "https://localhost:8080/",
          "height": 279
        },
        "id": "Lk46Hfpp3mkt",
        "outputId": "f77a56f9-2d5b-45d1-d0a5-c605ac144b10"
      },
      "execution_count": null,
      "outputs": [
        {
          "output_type": "display_data",
          "data": {
            "image/png": "[encoded data removed]",
            "text/plain": [
              "<Figure size 432x288 with 1 Axes>"
            ]
          },
          "metadata": {
            "needs_background": "light"
          }
        }
      ]
    },
    {
      "cell_type": "code",
      "source": [
        ""
      ],
      "metadata": {
        "id": "pPFoGKMf7baB"
      },
      "execution_count": null,
      "outputs": []
    }
  ]
}